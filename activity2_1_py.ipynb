{
  "nbformat": 4,
  "nbformat_minor": 0,
  "metadata": {
    "colab": {
      "provenance": [],
      "authorship_tag": "ABX9TyN2xi5hXgd/KSgTcROyst5h",
      "include_colab_link": true
    },
    "kernelspec": {
      "name": "python3",
      "display_name": "Python 3"
    },
    "language_info": {
      "name": "python"
    }
  },
  "cells": [
    {
      "cell_type": "markdown",
      "metadata": {
        "id": "view-in-github",
        "colab_type": "text"
      },
      "source": [
        "<a href=\"https://colab.research.google.com/github/Phosteve/Machine_Learning_practice/blob/master/activity2_1_py.ipynb\" target=\"_parent\"><img src=\"https://colab.research.google.com/assets/colab-badge.svg\" alt=\"Open In Colab\"/></a>"
      ]
    },
    {
      "cell_type": "markdown",
      "source": [
        "**# Quiz 1.** Using the references, what do you understand by the following terms?\n",
        "\n",
        "\n",
        "TTS: Text-to-Speech  - This is the converting of the textual inputs into natural human speech. The system which help in the conversion are reffed to as Text-to-Speech(TTS) synthesis. The sound produced is expected to be natural just as one spoken by a human.\n",
        "\n",
        "\n",
        "\n",
        "\n",
        "\n",
        "\n"
      ],
      "metadata": {
        "id": "obeT6MPm4V1z"
      }
    },
    {
      "cell_type": "markdown",
      "source": [
        "ASR: Automatic Speech Recognition - Is a problem of getting a program to automatically transcribe spoken language(speech-to-text). Meaning the program has the ability to do the speech to text translation without any human assistance. The main goal is always to have a model that minimizes the Word Error Rate (WER) metric when transcribing the input speech. The possible way of achieving a higher pacentage of text accuracy from an input speech."
      ],
      "metadata": {
        "id": "e4_-s3_C71m1"
      }
    },
    {
      "cell_type": "markdown",
      "source": [
        "NLP: Natural Language Processing - Refers to a branch of computer science-and more specifically, the branch of artificial intelligence or AI which is more concerned with giving computers the ability to understand text and spoken words in like manner human beings can.\n",
        "\n",
        "The field of NLP involves making computers to perform useful tasks with the natural language that humans use. In this case the input and the output of this system is -\n",
        ". Speech\n",
        ". Written Text"
      ],
      "metadata": {
        "id": "U6kVkhRoATb1"
      }
    },
    {
      "cell_type": "markdown",
      "source": [
        "**Quiz 2**. Give examples where you think TTS, ASR, and NPL can be used.\n",
        "\n",
        "\n",
        "Examples of where TTS can be used:\n",
        "videos, Language learning, GPS System.\n",
        "\n",
        "Examples of where ARS can be used:\n",
        "google voice search, call centers, transcription services.\n",
        "\n",
        "Examples of where NLP can be used:\n",
        "search engines, chatbots, Spelling checker.\n",
        "\n"
      ],
      "metadata": {
        "id": "wCf0TNuDEnmo"
      }
    }
  ]
}