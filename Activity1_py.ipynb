{
  "nbformat": 4,
  "nbformat_minor": 0,
  "metadata": {
    "colab": {
      "provenance": [],
      "gpuType": "T4",
      "authorship_tag": "ABX9TyO1c0yMK7s+kq4omCCOxaMi",
      "include_colab_link": true
    },
    "kernelspec": {
      "name": "python3",
      "display_name": "Python 3"
    },
    "language_info": {
      "name": "python"
    },
    "accelerator": "GPU"
  },
  "cells": [
    {
      "cell_type": "markdown",
      "metadata": {
        "id": "view-in-github",
        "colab_type": "text"
      },
      "source": [
        "<a href=\"https://colab.research.google.com/github/Phosteve/Machine_Learning_practice/blob/master/Activity1_py.ipynb\" target=\"_parent\"><img src=\"https://colab.research.google.com/assets/colab-badge.svg\" alt=\"Open In Colab\"/></a>"
      ]
    },
    {
      "cell_type": "markdown",
      "source": [
        "**Activity** **1**.\n",
        "\n",
        "1.Create a Python class that takes in 2 values, \"a\" and \"b\". In the class, create methods to add, subtract, multiply, and divide that rely on the values passed during the initialization of the class. Create an instance of the class with any random values and print the results of each of the class methods."
      ],
      "metadata": {
        "id": "oCrdaIpHQ455"
      }
    },
    {
      "cell_type": "code",
      "execution_count": 1,
      "metadata": {
        "id": "Kp-cjZLXOAul"
      },
      "outputs": [],
      "source": [
        "class Operation:\n",
        "  def __init__(self, a, b):\n",
        "    self.a = a\n",
        "    self.b = b\n",
        "\n",
        "  # Method to add\n",
        "  def add(self):\n",
        "    return self.a + self.b\n",
        "\n",
        "  # Method to subtract\n",
        "  def subtract(self):\n",
        "    return self.a - self.b\n",
        "\n",
        "  # Method to multiply\n",
        "  def multiply(self):\n",
        "    return self.a * self.b\n",
        "\n",
        "  # Method to divide\n",
        "  def divide(self):\n",
        "    return self.a / self.b"
      ]
    },
    {
      "cell_type": "code",
      "source": [
        "# Create an instance of Operation class\n",
        "my_adder = Operation(6,4)\n",
        "\n",
        "# Call the add method to perform the addition\n",
        "result = my_adder.add()\n",
        "\n",
        "# Output: 9\n",
        "print(result)"
      ],
      "metadata": {
        "colab": {
          "base_uri": "https://localhost:8080/"
        },
        "id": "0VVQIYLWPzSS",
        "outputId": "83145698-7751-4934-ae36-c929af8867f4"
      },
      "execution_count": 2,
      "outputs": [
        {
          "output_type": "stream",
          "name": "stdout",
          "text": [
            "10\n"
          ]
        }
      ]
    },
    {
      "cell_type": "code",
      "source": [
        "# Creating an instance of Operation class\n",
        "my_subtractor = Operation(7, 3)\n",
        "\n",
        "# Calling the subtract method to perform the subtraction\n",
        "result = my_subtractor.subtract()\n",
        "\n",
        "# Output: 3\n",
        "print(result)"
      ],
      "metadata": {
        "colab": {
          "base_uri": "https://localhost:8080/"
        },
        "id": "dVjjY_FbQAr3",
        "outputId": "f419cf48-d16b-4e0d-fe32-af0b717064e6"
      },
      "execution_count": 3,
      "outputs": [
        {
          "output_type": "stream",
          "name": "stdout",
          "text": [
            "4\n"
          ]
        }
      ]
    },
    {
      "cell_type": "code",
      "source": [
        "# Creating an instance of Operation class\n",
        "my_multiplyer = Operation(4, 8)\n",
        "\n",
        "# Calling the multiply method to perform the multiplication\n",
        "result = my_multiplyer.multiply()\n",
        "\n",
        "# Output: 18\n",
        "print(result)\n"
      ],
      "metadata": {
        "colab": {
          "base_uri": "https://localhost:8080/"
        },
        "id": "2WMoOmo4QFYy",
        "outputId": "bc59f321-248c-415a-dfc0-eff9bf8c23d1"
      },
      "execution_count": 4,
      "outputs": [
        {
          "output_type": "stream",
          "name": "stdout",
          "text": [
            "32\n"
          ]
        }
      ]
    },
    {
      "cell_type": "code",
      "source": [
        "# Creating an instance of Operation class\n",
        "my_divider = Operation(8, 6)\n",
        "\n",
        "# Calling the divide method to perform the division\n",
        "result = my_divider.divide()\n",
        "\n",
        "# Output: 2.0\n",
        "print(result)"
      ],
      "metadata": {
        "colab": {
          "base_uri": "https://localhost:8080/"
        },
        "id": "jW4mJ84nQKl4",
        "outputId": "fb097a7b-7492-4dcc-e4c2-507eaddb5b76"
      },
      "execution_count": 5,
      "outputs": [
        {
          "output_type": "stream",
          "name": "stdout",
          "text": [
            "1.3333333333333333\n"
          ]
        }
      ]
    },
    {
      "cell_type": "markdown",
      "source": [
        "**Activity** **1**\n",
        "\n",
        "2. In the same file, create a function that takes the same values of \"a\" and \"b\" and prints the results of addition, subtraction, division, and multiplication.\n",
        "**HINT**: \"a\" and \"b\" should be global variables.\n"
      ],
      "metadata": {
        "id": "1DYz5-i7R-qc"
      }
    },
    {
      "cell_type": "code",
      "source": [
        "\"\"\"\n",
        "Program: Operations on global variables\n",
        "\n",
        "This program operates on two global variables.\n",
        "\n",
        "Global variables:\n",
        "  a(int): First global variable.\n",
        "  b(int): Second global variable.\n",
        "\"\"\"\n",
        "\n",
        "# Global variables\n",
        "a = 20\n",
        "b = 5\n",
        "\n",
        "\"\"\"\n",
        "Defining the operate function which performs addition, subtraction, multiplication and division using global variables.\n",
        "The results are stored in respective variables: addition, subtraction, multiplication and division\n",
        "\n",
        "\"\"\"\n",
        "\n",
        "def operate():\n",
        "  global a, b\n",
        "  addition = a + b\n",
        "  subtraction = a - b\n",
        "  multiplication = a * b\n",
        "  division = a / b\n",
        "\n",
        "\n",
        "  # Print the respective values of the operation\n",
        "  print(\"Addition of a and b:\", addition)\n",
        "  print(\"Subtraction of b from a:\", subtraction)\n",
        "  print(\"Multiplication of a and b:\", multiplication)\n",
        "  print(\"Division of a and b:\", division)\n",
        "\n",
        "# Call the operate fuction\n",
        "operate()"
      ],
      "metadata": {
        "colab": {
          "base_uri": "https://localhost:8080/"
        },
        "id": "GnqkTWznR9lu",
        "outputId": "55e1ac04-26b0-4134-b5a9-53b724dd83f6"
      },
      "execution_count": 7,
      "outputs": [
        {
          "output_type": "stream",
          "name": "stdout",
          "text": [
            "Addition of a and b: 25\n",
            "Subtraction of b from a: 15\n",
            "Multiplication of a and b: 100\n",
            "Division of a and b: 4.0\n"
          ]
        }
      ]
    }
  ]
}